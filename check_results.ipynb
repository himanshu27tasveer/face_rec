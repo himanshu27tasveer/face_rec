{
  "nbformat": 4,
  "nbformat_minor": 0,
  "metadata": {
    "colab": {
      "name": "check_results.ipynb",
      "provenance": [],
      "machine_shape": "hm",
      "mount_file_id": "1tGaht2DkHrBMRngD472x12mVWR_c42S4",
      "authorship_tag": "ABX9TyM5cOUjKIMyMKS2lf8Me0ep",
      "include_colab_link": true
    },
    "kernelspec": {
      "name": "python3",
      "display_name": "Python 3"
    },
    "language_info": {
      "name": "python"
    },
    "accelerator": "GPU"
  },
  "cells": [
    {
      "cell_type": "markdown",
      "metadata": {
        "id": "view-in-github",
        "colab_type": "text"
      },
      "source": [
        "<a href=\"https://colab.research.google.com/github/himanshu27tasveer/face_rec/blob/main/check_results.ipynb\" target=\"_parent\"><img src=\"https://colab.research.google.com/assets/colab-badge.svg\" alt=\"Open In Colab\"/></a>"
      ]
    },
    {
      "cell_type": "code",
      "execution_count": null,
      "metadata": {
        "colab": {
          "base_uri": "https://localhost:8080/"
        },
        "id": "mPbdbPrCQyMx",
        "outputId": "e0a55098-2d6d-4cdb-c1b2-f605b21e3c05"
      },
      "outputs": [
        {
          "output_type": "stream",
          "name": "stdout",
          "text": [
            "TensorFlow 1.x selected.\n"
          ]
        }
      ],
      "source": [
        "%tensorflow_version 1.x"
      ]
    },
    {
      "cell_type": "code",
      "source": [
        "import tensorflow\n",
        "print(tensorflow.__version__)"
      ],
      "metadata": {
        "colab": {
          "base_uri": "https://localhost:8080/"
        },
        "id": "WV-hlKqyREqT",
        "outputId": "8c655d7b-6f0a-46b8-d63e-091513d6aa13"
      },
      "execution_count": null,
      "outputs": [
        {
          "output_type": "stream",
          "name": "stdout",
          "text": [
            "1.15.2\n"
          ]
        }
      ]
    },
    {
      "cell_type": "code",
      "source": [
        "import json,os\n",
        "import matplotlib.pyplot as plt\n",
        "import numpy as np\n",
        "\n",
        "def check_results(dir_path):\n",
        "\n",
        "    #----var\n",
        "    # json_path = os.path.join(dir_path,'train_result.json')\n",
        "    file_name = \"train_result_\"\n",
        "    train_loss_list = list()\n",
        "    train_acc_list = list()\n",
        "    test_acc_list = list()\n",
        "    exclude_list = ['train_loss_list','train_acc_list','test_loss_list','test_acc_list','save_dir']\n",
        "\n",
        "    file_nums = [int(file.name.split(\".\")[0].split(\"_\")[-1]) for file in os.scandir(dir_path) if\n",
        "                 file.name.find(file_name) >= 0]\n",
        "    seq = np.argsort(file_nums)\n",
        "\n",
        "    for idx in seq:\n",
        "        json_path = os.path.join(dir_path,file_name + str(file_nums[idx]) + \".json\")\n",
        "\n",
        "        #----read the json file\n",
        "        if os.path.exists(json_path):\n",
        "            with open(json_path, 'r') as f:\n",
        "                content = json.load(f)\n",
        "\n",
        "            print(\"--------{} parameters--------\".format(file_name + str(file_nums[idx])))\n",
        "            # ----display info except loss,acc\n",
        "            for key, value in content.items():\n",
        "                if key not in exclude_list:\n",
        "                    print(key, \": \", value)\n",
        "\n",
        "            # ----var parsing\n",
        "            train_loss_list.extend(content['train_loss_list'])\n",
        "            train_acc_list.extend(content['train_acc_list'])\n",
        "            if \"test_img_dir\" in content.keys():\n",
        "                test_acc_list.extend(content['test_acc_list'])\n",
        "\n",
        "    # ----statistics\n",
        "    print(\"--------Statistics--------\")\n",
        "    argmax = np.argmax(train_acc_list)\n",
        "    print(\"The best training set accuracy is {} at epoch {}\".format(train_acc_list[argmax], argmax + 1))\n",
        "    if \"test_img_dir\" in content.keys():\n",
        "        argmax = np.argmax(test_acc_list)\n",
        "        print(\"The best test set accuracy is {} at epoch {}\".format(test_acc_list[argmax], argmax + 1))\n",
        "\n",
        "\n",
        "    #----plot loss results\n",
        "    plt.figure(figsize=(20,5))\n",
        "\n",
        "    x_num = [i+1 for i in range(len(train_loss_list))]\n",
        "\n",
        "    plt.subplot(1,2,1)\n",
        "    plt.plot(x_num,train_loss_list,label=\"train_loss\")\n",
        "\n",
        "    plt.legend()\n",
        "    plt.ylabel(\"loss\")\n",
        "    plt.xlabel(\"epoch\")\n",
        "\n",
        "    #----plot acc results\n",
        "    plt.subplot(1,2,2)\n",
        "    plt.plot(x_num, train_acc_list, label=\"train_acc\")\n",
        "    if \"test_img_dir\" in content.keys():\n",
        "        plt.plot(x_num, test_acc_list, label=\"test_acc\")\n",
        "    plt.legend()\n",
        "    # plt.ylim((0.9, 0.97))  # limit the upper and lower bound of y-axis\n",
        "    plt.ylabel(\"accuracy\")\n",
        "    plt.xlabel(\"epoch\")\n",
        "\n",
        "\n",
        "    #----show plots\n",
        "    plt.show()\n",
        "\n",
        "\n",
        "\n",
        "\n",
        "\n",
        "\n",
        "\n",
        "\n",
        "\n",
        "\n",
        "\n",
        "\n",
        "if __name__ == \"__main__\":\n",
        "    # dir_path = \"/content/drive/MyDrive/model\"\n",
        "    dir_path = '/content/drive/MyDrive/face-model'\n",
        "    check_results(dir_path)"
      ],
      "metadata": {
        "colab": {
          "base_uri": "https://localhost:8080/",
          "height": 1000
        },
        "id": "QxRDs4A3Tw2J",
        "outputId": "b1a8e48c-7eb9-4e9f-d9ed-b233aa9f70f6"
      },
      "execution_count": null,
      "outputs": [
        {
          "output_type": "stream",
          "name": "stdout",
          "text": [
            "--------train_result_0 parameters--------\n",
            "train_img_dir :  ['/content/content/CASIA-Aligned', '/content/content/CASIA-Aligned-Mask']\n",
            "test_img_dir :  /content/content/lfw_aligned\n",
            "label_dict :  None\n",
            "model_shape :  [None, 112, 112, 3]\n",
            "infer_method :  inception_resnet_v1\n",
            "loss_method :  cross_entropy\n",
            "opti_method :  adam\n",
            "learning_rate :  0.005\n",
            "embed_length :  128\n",
            "prev_model :  /content/content/content/content/content/facenet-model\n",
            "epochs :  64\n",
            "GPU_ratio :  None\n",
            "batch_size :  64\n",
            "ratio :  0.6\n",
            "process_dict :  None\n",
            "ave_epoch_time :  2324.670275489489\n",
            "--------train_result_1 parameters--------\n",
            "train_img_dir :  ['/content/content/CASIA-Aligned', '/content/content/CASIA-Aligned-Mask']\n",
            "test_img_dir :  /content/content/lfw_aligned\n",
            "label_dict :  None\n",
            "model_shape :  [None, 112, 112, 3]\n",
            "infer_method :  inception_resnet_v1\n",
            "loss_method :  cross_entropy\n",
            "opti_method :  adam\n",
            "learning_rate :  0.005\n",
            "embed_length :  128\n",
            "prev_model :  /content/drive/MyDrive/MFR_final_year_nitw/face-model\n",
            "epochs :  64\n",
            "GPU_ratio :  None\n",
            "batch_size :  64\n",
            "ratio :  0.6\n",
            "process_dict :  None\n",
            "ave_epoch_time :  2294.680845446057\n",
            "--------train_result_2 parameters--------\n",
            "train_img_dir :  ['/content/content/CASIA-Aligned', '/content/content/CASIA-Aligned-Mask']\n",
            "test_img_dir :  /content/content/lfw_aligned\n",
            "label_dict :  None\n",
            "model_shape :  [None, 112, 112, 3]\n",
            "infer_method :  inception_resnet_v1\n",
            "loss_method :  cross_entropy\n",
            "opti_method :  adam\n",
            "learning_rate :  0.009\n",
            "embed_length :  128\n",
            "epochs :  60\n",
            "GPU_ratio :  None\n",
            "batch_size :  128\n",
            "ratio :  0.6\n",
            "process_dict :  None\n",
            "ave_epoch_time :  1917.7648981639318\n",
            "--------Statistics--------\n",
            "The best training set accuracy is 0.5659199683565166 at epoch 15\n",
            "The best test set accuracy is 0.9168333333333333 at epoch 3\n"
          ]
        },
        {
          "output_type": "display_data",
          "data": {
            "image/png": "[encoded data removed]",
            "text/plain": [
              "<Figure size 1440x360 with 2 Axes>"
            ]
          },
          "metadata": {
            "needs_background": "light"
          }
        }
      ]
    },
    {
      "cell_type": "code",
      "source": [
        ""
      ],
      "metadata": {
        "id": "3JIrn5X01ygL"
      },
      "execution_count": null,
      "outputs": []
    }
  ]
}